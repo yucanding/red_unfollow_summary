{
  "nbformat": 4,
  "nbformat_minor": 0,
  "metadata": {
    "colab": {
      "provenance": []
    },
    "kernelspec": {
      "name": "python3",
      "display_name": "Python 3"
    },
    "language_info": {
      "name": "python"
    }
  },
  "cells": [
    {
      "cell_type": "code",
      "execution_count": 1,
      "metadata": {
        "id": "PssARzgDmtCI"
      },
      "outputs": [],
      "source": [
        "from bs4 import BeautifulSoup"
      ]
    },
    {
      "cell_type": "code",
      "source": [
        "# 指定本地HTML文件的路径\n",
        "file_path = 'red.html'\n",
        "\n",
        "# 读取HTML文件内容\n",
        "with open(file_path, 'r', encoding='utf-8') as file:\n",
        "    html_content = file.read()\n",
        "\n",
        "# 使用BeautifulSoup解析HTML\n",
        "soup = BeautifulSoup(html_content, 'html.parser')\n",
        "\n",
        "# 查找所有的container div\n",
        "containers = soup.find_all('div', class_='container')"
      ],
      "metadata": {
        "id": "pLxTVXhYmwWk"
      },
      "execution_count": 2,
      "outputs": []
    },
    {
      "cell_type": "code",
      "source": [
        "# 用于计数的变量\n",
        "count = 0\n",
        "\n",
        "for container in containers:\n",
        "    # 查找class为reds-button-new-text的span元素，查找包含“关注”的元素\n",
        "    span = container.find('span', class_='reds-button-new-text')\n",
        "\n",
        "    if span and span.text == '关注':\n",
        "        count += 1\n",
        "\n",
        "        # 查找container中的user-info div，进一步查找嵌套的a标签\n",
        "        user_info_div = container.find('div', class_='user-info')\n",
        "        if user_info_div:\n",
        "            a_tag = user_info_div.find('a', href=True)\n",
        "            if a_tag:\n",
        "                # 提取href中的用户ID\n",
        "                href_value = a_tag['href']\n",
        "                user_id = href_value.split('/user/profile/')[1].split('?')[0]\n",
        "\n",
        "                # 提取用户名并去除两端的空白字符\n",
        "                username = a_tag.get_text(strip=True)\n",
        "                print(f'用户名: {username}, 用户ID: {user_id}')"
      ],
      "metadata": {
        "colab": {
          "base_uri": "https://localhost:8080/"
        },
        "collapsed": true,
        "id": "S3bVewttm7lI",
        "outputId": "594fc499-60f7-4af5-ed67-995133ae1e13"
      },
      "execution_count": 3,
      "outputs": [
        {
          "output_type": "stream",
          "name": "stdout",
          "text": [
            "用户名: 俊俊超帅, 用户ID: 6019f483000000000101f6be\n",
            "用户名: 小徐哈哈, 用户ID: 65585a3f000000000403bf1a\n",
            "用户名: 挑战关注小红书所有的人, 用户ID: 64c22e850000000014037903\n",
            "用户名: 玛卡_巴卡, 用户ID: 634fcf79000000001901e6bd\n",
            "用户名: George CHAN (fat boy), 用户ID: 657bfc8a0000000019013103\n",
            "用户名: 云宝爱灵, 用户ID: 63c52d3700000000270297a9\n",
            "用户名: 夣, 用户ID: 594e72336a6a69070ec839bb\n",
            "用户名: 小章鱼快冲呀, 用户ID: 5edd2b12000000000101c758\n",
            "用户名: 兰馨, 用户ID: 5bb9facd6c702b0001417aa1\n",
            "用户名: 再来一杯榛子拿铁, 用户ID: 5dbe3b210000000001000123\n",
            "用户名: momo, 用户ID: 63d88eeb000000002702a175\n",
            "用户名: 黑鳄梨, 用户ID: 5832b18582ec394e9b052796\n",
            "用户名: 遥南-, 用户ID: 5bff83e30000000007006a85\n",
            "用户名: trinkletrinklelittlestar, 用户ID: 5a2d824e4eacab28378df3ea\n",
            "用户名: Ziway, 用户ID: 64567d4a0000000029015f80\n",
            "用户名: YZ, 用户ID: 65e197d3000000000500efca\n",
            "用户名: YouDoran, 用户ID: 5dc056400000000001006f57\n",
            "用户名: 张金金金每天哈哈哈, 用户ID: 6268e33a0000000021027beb\n",
            "用户名: 🐬🤟, 用户ID: 64bd03c8000000001403acda\n",
            "用户名: 阿悦Yue.的头像素材馆^, 用户ID: 5e524bd60000000001008a74\n",
            "用户名: Sisyphus, 用户ID: 62d8250300000000020026ef\n",
            "用户名: 爱旅游的羊羊, 用户ID: 62f85bdd000000001f014693\n",
            "用户名: 猫尾纱, 用户ID: 5823dcd46a6a6932625eb05b\n",
            "用户名: 用户已注销, 用户ID: 636a5140000000001f016292\n",
            "用户名: 熊的叶湘伦, 用户ID: 60ecfe0e0000000001001f23\n",
            "用户名: 金胖子银牌讲师🥈, 用户ID: 6058c31d000000000101ef73\n",
            "用户名: 小锦囊（备用版）, 用户ID: 62ce7a88000000001501798e\n",
            "用户名: 学点知识, 用户ID: 6579bdcd000000001c018b3c\n",
            "用户名: momo, 用户ID: 66a3224c000000000d025cd2\n",
            "用户名: Salt, 用户ID: 562f7a52447608649b8a9972\n",
            "用户名: 樱桃汽水🍒, 用户ID: 659d24a40000000022006f9b\n",
            "用户名: 陈很好Chen, 用户ID: 55934aec62a60c3efd9d2317\n",
            "用户名: 来颗溜溜梅, 用户ID: 5d38f6e5000000001100ff83\n",
            "用户名: 赵露思的胡萝卜, 用户ID: 64c0e2020000000014037a8c\n",
            "用户名: 小红薯63D46A4E, 用户ID: 63d30e0f000000002702a474\n",
            "用户名: 唐玉, 用户ID: 5dac00fc00000000010080ed\n",
            "用户名: hailhydra, 用户ID: 59b0975482ec3971f28298eb\n",
            "用户名: Jessiekkkaa, 用户ID: 5dd60f200000000001003b08\n",
            "用户名: 多不拉急, 用户ID: 62450aef0000000010005995\n",
            "用户名: 没滑雪的Alex, 用户ID: 61fee98b000000001000dd8e\n",
            "用户名: 克拉拉, 用户ID: 5f438a43000000000100ab04\n",
            "用户名: 耶噗抽抽, 用户ID: 5ab4d3aa11be100add88b844\n",
            "用户名: 廷仔粥粥, 用户ID: 5ac3fdd2e8ac2b29661352d2\n",
            "用户名: alittleding, 用户ID: 57978a9250c4b4069f4c65b9\n",
            "用户名: 珠光, 用户ID: 5bbbdc1b88aa6d0001af3d70\n",
            "用户名: 欢喜小富婆, 用户ID: 550cc9dba46e964054f148b8\n",
            "用户名: 万小兑2015, 用户ID: 57ffa8095e87e75a979b46d6\n",
            "用户名: 别烦, 用户ID: 5cdfb686000000001703be2c\n",
            "用户名: ^稚, 用户ID: 6082d70a000000000101ddcd\n",
            "用户名: Insomniazxx, 用户ID: 591c29cd50c4b4013df00636\n",
            "用户名: az, 用户ID: 5d2164ae000000001203a83a\n",
            "用户名: OAOA, 用户ID: 5e19d8db0000000001005bc4\n",
            "用户名: 眉眼如初, 用户ID: 5d09a0cc0000000016027ef2\n",
            "用户名: 小红薯6666D46C, 用户ID: 659a09dd0000000022014f0d\n",
            "用户名: halo, 用户ID: 5b6f00e6879a4d0001eb9e91\n",
            "用户名: 许墨的小墨, 用户ID: 5f8da50600000000010004ce\n",
            "用户名: 观南器物, 用户ID: 5e398eb9000000000100418f\n",
            "用户名: 那就这样吧, 用户ID: 6052a3f20000000001005019\n",
            "用户名: superZero, 用户ID: 590a1db66a6a6949f0fb7868\n",
            "用户名: 就不爱吃萝卜, 用户ID: 5aadc996e8ac2b52cdef9d1a\n",
            "用户名: 西瓜柠檬, 用户ID: 5faf7c57000000000101feb3\n",
            "用户名: 草莓园里卖草莓, 用户ID: 62b942fd000000001902920d\n",
            "用户名: Lulu奶奶👵, 用户ID: 6528da49000000002a037226\n",
            "用户名: 草莓圆舞曲, 用户ID: 5479878cd6e4a91d5cb31f0a\n",
            "用户名: 鸡腿子, 用户ID: 5af4d31c11be107befcdf30e\n",
            "用户名: 下雨天遛弯儿, 用户ID: 5a59d09ee8ac2b6145aeed82\n",
            "用户名: Aiyiiiiii, 用户ID: 5f07e5890000000001001b2b\n",
            "用户名: 甜妹晓晓, 用户ID: 5c9c3b3c000000001700b06f\n",
            "用户名: 流柳巴人, 用户ID: 61886db1000000001000f424\n",
            "用户名: 卡格薇, 用户ID: 5924150a50c4b4421f9dd9e4\n",
            "用户名: 八百标兵奔北坡, 用户ID: 5741973b5e87e71ef6f93d4a\n",
            "用户名: 夜空霓虹都是我不要的繁荣, 用户ID: 5adaa4aab1da14331780fa2c\n",
            "用户名: echo, 用户ID: 5aa20bd9b1da140e8f37a0fd\n",
            "用户名: Neva, 用户ID: 5dd9632f0000000001002215\n",
            "用户名: 在M记做超级组, 用户ID: 5659cadbb8c8b4577ab0197b\n",
            "用户名: Roadster🔰, 用户ID: 5dbda9890000000001008b1a\n",
            "用户名: 赫米米, 用户ID: 6138974400000000020207f7\n",
            "用户名: 珊瑚🌱家庭教育, 用户ID: 613d6f19000000000201eb77\n",
            "用户名: 悠悠, 用户ID: 5a93dde5db2e600bf3e5c8ed\n",
            "用户名: 南方, 用户ID: 5bea0fb3eb933000018525ae\n",
            "用户名: 疯狂雨人, 用户ID: 60d0f42c000000000101d298\n",
            "用户名: 甩皇大人, 用户ID: 60be489c000000000100aab2\n",
            "用户名: 外号小八, 用户ID: 5d24c6810000000010033967\n",
            "用户名: momo, 用户ID: 5c6517a50000000011007099\n",
            "用户名: 华华, 用户ID: 635ef9080000000018028f62\n",
            "用户名: haoqil, 用户ID: 57b43dac5e87e7386c38a02a\n",
            "用户名: 椰子味花生酱, 用户ID: 62b94ee20000000015014051\n",
            "用户名: 给我拿双筷子🥢, 用户ID: 5f08cafb000000000101cc66\n",
            "用户名: 千幽小筑, 用户ID: 5b0cdda611be10329043b0bf\n",
            "用户名: E.T., 用户ID: 5db05d240000000001003e1c\n",
            "用户名: 知世就是力量, 用户ID: 5aba03a1e8ac2b0675c086c7\n",
            "用户名: 王德發, 用户ID: 5f50c892000000000100109f\n",
            "用户名: Momo, 用户ID: 5a42451e4eacab1760e11876\n",
            "用户名: 顽主117, 用户ID: 60e0840b0000000001000c8c\n",
            "用户名: N01R, 用户ID: 5d41903d0000000016017089\n",
            "用户名: Alida, 用户ID: 548330b9e779895b7b18e44c\n",
            "用户名: 南山悠悠, 用户ID: 6115084a000000000101759f\n",
            "用户名: 爱吃西红柿, 用户ID: 5a0d1f2111be10216f7e40a5\n",
            "用户名: 飞翔的蛋卷, 用户ID: 621be38f000000001000810c\n",
            "用户名: 烟花, 用户ID: 5dfd92b70000000001005ede\n",
            "用户名: 美秋里, 用户ID: 6534723000000000060063f0\n",
            "用户名: 等候极光, 用户ID: 644e9785000000000f004efa\n",
            "用户名: 用户已注销, 用户ID: 64c8505e000000000b00ba59\n",
            "用户名: Yuuu, 用户ID: 593b454ef89a92459c8db434\n",
            "用户名: 小红薯66426CAD, 用户ID: 657273260000000020033ba2\n",
            "用户名: 花园假期的造谣头子, 用户ID: 64aaa95e000000001f0048cb\n",
            "用户名: EYL, 用户ID: 61cf2a6200000000100040ca\n",
            "用户名: 自由, 用户ID: 5efed45d000000000101d5bb\n",
            "用户名: 哇, 用户ID: 5e5dc1c400000000010092f6\n",
            "用户名: 是倩倩吖, 用户ID: 5f7b2822000000000100b49c\n",
            "用户名: 安安, 用户ID: 6119df810000000001005d21\n",
            "用户名: Marcia9, 用户ID: 581cb54e5e87e74a8c1bb5b6\n",
            "用户名: 海, 用户ID: 6142f946000000000202201f\n",
            "用户名: 小梁睡不醒, 用户ID: 5a6c3e9611be102133c40f12\n",
            "用户名: Days, 用户ID: 58db57743460946604657aff\n",
            "用户名: 呦吼, 用户ID: 61f755a50000000010007d40\n",
            "用户名: 晴天和雨天都很可爱, 用户ID: 608522e90000000001003c27\n",
            "用户名: 狄更斯是漫画吗, 用户ID: 6174da670000000002026c2c\n"
          ]
        }
      ]
    },
    {
      "cell_type": "code",
      "source": [
        "# 输出总计数\n",
        "print(f'共{count}人取关')"
      ],
      "metadata": {
        "colab": {
          "base_uri": "https://localhost:8080/"
        },
        "id": "Tsp7PIObqjPY",
        "outputId": "73edd939-a837-4449-a4cc-edc2beb61831"
      },
      "execution_count": 4,
      "outputs": [
        {
          "output_type": "stream",
          "name": "stdout",
          "text": [
            "共118人取关\n"
          ]
        }
      ]
    }
  ]
}